{
 "cells": [
  {
   "cell_type": "markdown",
   "metadata": {},
   "source": [
    "## Assignment 1 Getting your Feet Wet with Coding for Data Analysis and Modeling\n",
    "\n",
    "\n",
    "### The purpose of this assignment is to get started coding!  Its alright if you have struggles, if you ask your classmates or me.  \n",
    "### I am available on the Discord Server in the Professors corner and of course by email and in class. \n",
    "\n",
    "###  Deadline: Wednesday 10/11 at midnight. "
   ]
  },
  {
   "cell_type": "markdown",
   "metadata": {},
   "source": [
    "### Problem #1 \n",
    "#### Make an array x containing 200 random numbers (samples) drawn from a normal distribution with a mean of 0.25 and a standard deviation of and plot a histogram. Don't forget to set the random number seed.  \n",
    "\n"
   ]
  },
  {
   "cell_type": "code",
   "execution_count": 2,
   "metadata": {},
   "outputs": [
    {
     "data": {
      "text/plain": [
       "(array([ 2.,  4., 16., 25., 30., 39., 46., 22., 11.,  5.]),\n",
       " array([-2.7171132 , -2.18167348, -1.64623377, -1.11079405, -0.57535434,\n",
       "        -0.03991462,  0.49552509,  1.03096481,  1.56640452,  2.10184423,\n",
       "         2.63728395]),\n",
       " <BarContainer object of 10 artists>)"
      ]
     },
     "execution_count": 2,
     "metadata": {},
     "output_type": "execute_result"
    },
    {
     "data": {
      "image/png": "[encoded data removed]",
      "text/plain": [
       "<Figure size 640x480 with 1 Axes>"
      ]
     },
     "metadata": {},
     "output_type": "display_data"
    }
   ],
   "source": [
    "import numpy as np\n",
    "from numpy import random\n",
    "from matplotlib import pyplot as plt\n",
    "\n",
    "samplesize = 200\n",
    "mean = 0.25\n",
    "sd = 1\n",
    "\n",
    "myseed = random.seed(100) ## what should the random number seed be?\n",
    "rng = random.default_rng(myseed)\n",
    "x = rng.normal(mean, sd, samplesize)\n",
    "\n",
    "plt.hist(x)\n"
   ]
  },
  {
   "cell_type": "markdown",
   "metadata": {},
   "source": [
    "### Problem #2  \n",
    "#### Find the mean, median, 25%, 75% and standard deviation of the array you created in Problem 1"
   ]
  },
  {
   "cell_type": "code",
   "execution_count": 3,
   "metadata": {},
   "outputs": [],
   "source": [
    "x_mean = np.mean(x)\n",
    "x_median = np.median(x)\n",
    "x_25 = np.percentile(x, 25)\n",
    "x_75 = np.percentile(x, 75)\n",
    "x_sd = np.std(x)"
   ]
  },
  {
   "cell_type": "markdown",
   "metadata": {},
   "source": [
    "### Problem #3 \n",
    "#### Compute the cumulative sum of the array x (there is a numpy function that does htis) and store it in a variable w.  Make a plot of the number of samples versus w. "
   ]
  },
  {
   "cell_type": "code",
   "execution_count": null,
   "metadata": {},
   "outputs": [],
   "source": []
  },
  {
   "cell_type": "markdown",
   "metadata": {},
   "source": [
    "### Problem #4 \n",
    "#### Find the sample number where w first exceeds 10. Save this to a variable called rt.  NOTE: There exceeds a remote possibility that you never cross 10 in 200 samples.  If this happens increase the number of samples from 200 to 300.  "
   ]
  },
  {
   "cell_type": "code",
   "execution_count": null,
   "metadata": {},
   "outputs": [],
   "source": []
  },
  {
   "cell_type": "markdown",
   "metadata": {},
   "source": [
    "## The datafile ReactionTimeData.csv is for use in Problem 5 and 6.  You can load it into python using pandas. This is data from a perceptual discrimination Reaction Time + EEG experiment with 3 condition labeled 'Easy', 'Medium', 'Hard'.  The variable Correct indicates 1 if the subject got it right and 0 if the subject got it wrong.  Reaction Time is in units of milliseconds"
   ]
  },
  {
   "cell_type": "markdown",
   "metadata": {},
   "source": [
    "### Problem 5 \n",
    "#### Choose a subject (make a parameter which is the subject number than can be easily changed to run your code again on a different subject) Label the graphs with the subject number. \n",
    "#### a. make a histogram of the RT for an individual subject, showing all 3 difficulty conditions in a single graph.\n",
    "#### b. Make an bar plot with an error that shows the reaction time means for each condition  and for correct and incorrect trials. The errorbar should show the standard deviation.  "
   ]
  },
  {
   "cell_type": "code",
   "execution_count": null,
   "metadata": {},
   "outputs": [],
   "source": []
  },
  {
   "cell_type": "markdown",
   "metadata": {},
   "source": [
    "### Problem 6 \n",
    "#### a. Calculate the mean reaction time for each subject in each condition.  \n",
    "#### b. Make a histogram that shows the distribution of mean RT across subjects,showing all 3 conditions in a single graph.  \n",
    "#### c.  Repeat (b) for the 25%, 50%, and 75%. Do the graphs show the same differences between conditions? \n",
    "#### d. Calculate the accuracy for each subject in each condition (accuracy is the proportion they get correct).  Visualize the accuracy in each condition for all the subjects in 1 graph.  \n",
    "#### d.  What is your qualitiative opinion on the differences in reaction time and accuracy between conditions and subjects.   "
   ]
  },
  {
   "cell_type": "code",
   "execution_count": null,
   "metadata": {},
   "outputs": [],
   "source": []
  }
 ],
 "metadata": {
  "kernelspec": {
   "display_name": "Python 3",
   "language": "python",
   "name": "python3"
  },
  "language_info": {
   "codemirror_mode": {
    "name": "ipython",
    "version": 3
   },
   "file_extension": ".py",
   "mimetype": "text/x-python",
   "name": "python",
   "nbconvert_exporter": "python",
   "pygments_lexer": "ipython3",
   "version": "3.11.4"
  },
  "orig_nbformat": 4
 },
 "nbformat": 4,
 "nbformat_minor": 2
}
