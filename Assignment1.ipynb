{
 "cells": [
  {
   "cell_type": "markdown",
   "metadata": {},
   "source": [
    "## Assignment 1 Getting your Feet Wet with Coding for Data Analysis and Modeling\n",
    "\n",
    "\n",
    "### The purpose of this assignment is to get started coding!  Its alright if you have struggles, if you ask your classmates or me.  \n",
    "### I am available on the Discord Server in the Professors corner and of course by email and in class. \n",
    "\n",
    "###  Deadline: Wednesday 10/11 at midnight. "
   ]
  },
  {
   "cell_type": "markdown",
   "metadata": {},
   "source": [
    "### Problem #1 \n",
    "#### Make an array x containing 200 random numbers (samples) drawn from a normal distribution with a mean of 0.25 and a standard deviation of and plot a histogram. Don't forget to set the random number seed.  \n",
    "\n"
   ]
  },
  {
   "cell_type": "code",
   "execution_count": 2,
   "metadata": {},
   "outputs": [
    {
     "data": {
      "text/plain": [
       "(array([ 2.,  4., 16., 25., 30., 39., 46., 22., 11.,  5.]),\n",
       " array([-2.7171132 , -2.18167348, -1.64623377, -1.11079405, -0.57535434,\n",
       "        -0.03991462,  0.49552509,  1.03096481,  1.56640452,  2.10184423,\n",
       "         2.63728395]),\n",
       " <BarContainer object of 10 artists>)"
      ]
     },
     "execution_count": 2,
     "metadata": {},
     "output_type": "execute_result"
    },
    {
     "data": {
      "image/png": "[encoded data removed]",
      "text/plain": [
       "<Figure size 640x480 with 1 Axes>"
      ]
     },
     "metadata": {},
     "output_type": "display_data"
    }
   ],
   "source": [
    "import numpy as np\n",
    "from numpy import random\n",
    "from matplotlib import pyplot as plt\n",
    "\n",
    "samplesize = 200\n",
    "mean = 0.25\n",
    "sd = 1\n",
    "\n",
    "myseed = random.seed(100) ## what should the random number seed be?\n",
    "rng = random.default_rng(myseed)\n",
    "x = rng.normal(mean, sd, samplesize)\n",
    "\n",
    "plt.hist(x)\n"
   ]
  },
  {
   "cell_type": "markdown",
   "metadata": {},
   "source": [
    "### Problem #2  \n",
    "#### Find the mean, median, 25%, 75% and standard deviation of the array you created in Problem 1"
   ]
  },
  {
   "cell_type": "code",
   "execution_count": 3,
   "metadata": {},
   "outputs": [],
   "source": [
    "x_mean = np.mean(x)\n",
    "x_median = np.median(x)\n",
    "x_25 = np.percentile(x, 25)\n",
    "x_75 = np.percentile(x, 75)\n",
    "x_sd = np.std(x)"
   ]
  },
  {
   "cell_type": "markdown",
   "metadata": {},
   "source": [
    "### Problem #3 \n",
    "#### Compute the cumulative sum of the array x (there is a numpy function that does htis) and store it in a variable w.  Make a plot of the number of samples versus w. "
   ]
  },
  {
   "cell_type": "code",
   "execution_count": 9,
   "metadata": {},
   "outputs": [
    {
     "name": "stdout",
     "output_type": "stream",
     "text": [
      "[-1.15408986e+00 -2.54105422e-01 -4.50426634e-01  1.13213100e+00\n",
      "  9.53972879e-02 -1.51376566e+00 -2.86227146e+00 -3.08521981e+00\n",
      " -2.84775534e+00 -2.03602142e+00 -1.49686994e+00 -9.85274515e-01\n",
      " -1.23080926e+00 -4.73502665e-01 -1.66398516e+00 -3.28786152e-01\n",
      " -4.91707153e-01 -7.17042210e-01  5.89446655e-02 -7.20624796e-02\n",
      " -2.53809718e-01 -1.33945793e-01  6.99056341e-01  8.16124587e-01\n",
      "  7.62099700e-01  1.25406667e+00  1.35690817e+00  4.64018528e-01\n",
      "  1.06734382e+00  3.05404977e-01 -1.00392318e-02 -1.18330700e+00\n",
      "  9.33474612e-01  1.18156945e-01 -7.66118300e-01 -3.48323150e+00\n",
      " -3.24595346e+00 -3.94913046e+00 -3.66219693e+00 -2.81065208e+00\n",
      " -8.76678815e-01 -8.76390998e-01 -1.93678815e+00 -1.35715578e+00\n",
      " -1.13325107e+00 -2.84877337e+00 -3.15561711e-01 -1.66658448e-01\n",
      " -1.65867110e+00 -1.10164674e+00 -2.08992488e+00 -7.10772244e-01\n",
      " -3.33964054e+00 -3.86472920e+00 -3.69016924e+00 -2.62009768e+00\n",
      " -1.77184759e+00 -1.40174100e+00 -2.03687469e-01 -8.07192399e-01\n",
      " -5.23608053e-02  1.23963882e-01 -3.27820163e-01  2.08805922e+00\n",
      "  2.55386663e+00  4.58903464e+00  4.78400157e+00  4.58018175e+00\n",
      "  3.15527485e+00  3.15883871e+00  3.67138261e+00  4.83778164e+00\n",
      "  4.27774320e+00  5.05749643e+00  4.22601921e+00  5.07756318e+00\n",
      "  5.51527135e+00  6.02066775e+00  6.69560464e+00  7.27240000e+00\n",
      "  7.89561754e+00  6.80318622e+00  7.66641104e+00  8.07075670e+00\n",
      "  9.44725379e+00  8.45286521e+00  8.84397805e+00  1.02069317e+01\n",
      "  1.07915065e+01  1.17247620e+01  1.11045204e+01  1.17905603e+01\n",
      "  1.44278442e+01  1.44699516e+01  1.63105591e+01  1.73035754e+01\n",
      "  1.57499656e+01  1.48109643e+01  1.50222584e+01  1.56954406e+01\n",
      "  1.60551880e+01  1.58743241e+01  1.67524646e+01  1.77012646e+01\n",
      "  1.90708456e+01  1.77725877e+01  1.86965026e+01  1.78631668e+01\n",
      "  1.85376715e+01  1.98547507e+01  2.01952776e+01  2.19698522e+01\n",
      "  2.35788968e+01  2.36199863e+01  2.39900481e+01  2.58667745e+01\n",
      "  2.46809456e+01  2.42493472e+01  2.40807927e+01  2.30093234e+01\n",
      "  2.49343186e+01  2.46737685e+01  2.47946458e+01  2.53819629e+01\n",
      "  2.32100067e+01  2.30557502e+01  2.45601142e+01  2.50197271e+01\n",
      "  2.55690902e+01  2.45167945e+01  2.59191700e+01  2.66110927e+01\n",
      "  2.67255753e+01  2.62506016e+01  2.75016607e+01  2.85628964e+01\n",
      "  2.80004258e+01  2.71465887e+01  2.67191878e+01  2.70323889e+01\n",
      "  2.68319746e+01  2.61635853e+01  2.51615575e+01  2.40108827e+01\n",
      "  2.45860366e+01  2.25707323e+01  2.30633257e+01  2.34399228e+01\n",
      "  2.40296897e+01  2.46997355e+01  2.37220019e+01  2.48760128e+01\n",
      "  2.52943201e+01  2.66117198e+01  2.78652498e+01  2.85496719e+01\n",
      "  2.89850859e+01  2.95946221e+01  3.07313105e+01  3.18432004e+01\n",
      "  2.98924037e+01  3.07850172e+01  3.20925311e+01  3.18119060e+01\n",
      "  3.02348790e+01  3.11280277e+01  3.29749353e+01  3.34108295e+01\n",
      "  3.31740100e+01  3.32933311e+01  3.31538268e+01  3.43250796e+01\n",
      "  3.46393479e+01  3.59466558e+01  3.46332634e+01  3.36785843e+01\n",
      "  3.24882836e+01  3.23886518e+01  3.39976486e+01  3.37101032e+01\n",
      "  3.47930098e+01  3.54260282e+01  3.77504383e+01  3.61354327e+01\n",
      "  3.70172804e+01  3.55673334e+01  3.50485489e+01  3.47156458e+01\n",
      "  3.50126661e+01  3.57213783e+01  3.74508788e+01  3.83940735e+01\n",
      "  3.93614844e+01  3.84816706e+01  3.83830201e+01  3.76085857e+01\n",
      "  3.77118107e+01  3.85869956e+01  3.77343826e+01  3.81081765e+01]\n"
     ]
    }
   ],
   "source": [
    "w = np.cumsum(x)\n",
    "print(w)"
   ]
  },
  {
   "cell_type": "markdown",
   "metadata": {},
   "source": [
    "### Problem #4 \n",
    "#### Find the sample number where w first exceeds 10. Save this to a variable called rt.  NOTE: There exceeds a remote possibility that you never cross 10 in 200 samples.  If this happens increase the number of samples from 200 to 300.  "
   ]
  },
  {
   "cell_type": "code",
   "execution_count": 6,
   "metadata": {},
   "outputs": [
    {
     "ename": "IndexError",
     "evalue": "invalid index to scalar variable.",
     "output_type": "error",
     "traceback": [
      "\u001b[1;31m---------------------------------------------------------------------------\u001b[0m",
      "\u001b[1;31mIndexError\u001b[0m                                Traceback (most recent call last)",
      "\u001b[1;32mc:\\Users\\shani\\OneDrive\\Documents\\github\\COGS106-Assignment1\\Assignment1.ipynb Cell 9\u001b[0m line \u001b[0;36m4\n\u001b[0;32m      <a href='vscode-notebook-cell:/c%3A/Users/shani/OneDrive/Documents/github/COGS106-Assignment1/Assignment1.ipynb#X11sZmlsZQ%3D%3D?line=1'>2</a>\u001b[0m count \u001b[39m=\u001b[39m \u001b[39m0\u001b[39m\n\u001b[0;32m      <a href='vscode-notebook-cell:/c%3A/Users/shani/OneDrive/Documents/github/COGS106-Assignment1/Assignment1.ipynb#X11sZmlsZQ%3D%3D?line=2'>3</a>\u001b[0m \u001b[39mwhile\u001b[39;00m rt \u001b[39m<\u001b[39m \u001b[39m10\u001b[39m:\n\u001b[1;32m----> <a href='vscode-notebook-cell:/c%3A/Users/shani/OneDrive/Documents/github/COGS106-Assignment1/Assignment1.ipynb#X11sZmlsZQ%3D%3D?line=3'>4</a>\u001b[0m     rt \u001b[39m=\u001b[39m w[\u001b[39m0\u001b[39m]\n\u001b[0;32m      <a href='vscode-notebook-cell:/c%3A/Users/shani/OneDrive/Documents/github/COGS106-Assignment1/Assignment1.ipynb#X11sZmlsZQ%3D%3D?line=4'>5</a>\u001b[0m     count \u001b[39m+\u001b[39m\u001b[39m=\u001b[39m \u001b[39m1\u001b[39m\n\u001b[0;32m      <a href='vscode-notebook-cell:/c%3A/Users/shani/OneDrive/Documents/github/COGS106-Assignment1/Assignment1.ipynb#X11sZmlsZQ%3D%3D?line=5'>6</a>\u001b[0m \u001b[39mprint\u001b[39m(rt)\n",
      "\u001b[1;31mIndexError\u001b[0m: invalid index to scalar variable."
     ]
    }
   ],
   "source": [
    "rt = 0 \n",
    "count = 0\n",
    "while rt < 10:\n",
    "    rt = w[0]\n",
    "    count += 1\n",
    "print(rt)\n",
    "print(count)"
   ]
  },
  {
   "cell_type": "markdown",
   "metadata": {},
   "source": [
    "## The datafile ReactionTimeData.csv is for use in Problem 5 and 6.  You can load it into python using pandas. This is data from a perceptual discrimination Reaction Time + EEG experiment with 3 condition labeled 'Easy', 'Medium', 'Hard'.  The variable Correct indicates 1 if the subject got it right and 0 if the subject got it wrong.  Reaction Time is in units of milliseconds"
   ]
  },
  {
   "cell_type": "markdown",
   "metadata": {},
   "source": [
    "### Problem 5 \n",
    "#### Choose a subject (make a parameter which is the subject number than can be easily changed to run your code again on a different subject) Label the graphs with the subject number. \n",
    "#### a. make a histogram of the RT for an individual subject, showing all 3 difficulty conditions in a single graph.\n",
    "#### b. Make an bar plot with an error that shows the reaction time means for each condition  and for correct and incorrect trials. The errorbar should show the standard deviation.  "
   ]
  },
  {
   "cell_type": "code",
   "execution_count": null,
   "metadata": {},
   "outputs": [],
   "source": []
  },
  {
   "cell_type": "markdown",
   "metadata": {},
   "source": [
    "### Problem 6 \n",
    "#### a. Calculate the mean reaction time for each subject in each condition.  \n",
    "#### b. Make a histogram that shows the distribution of mean RT across subjects,showing all 3 conditions in a single graph.  \n",
    "#### c.  Repeat (b) for the 25%, 50%, and 75%. Do the graphs show the same differences between conditions? \n",
    "#### d. Calculate the accuracy for each subject in each condition (accuracy is the proportion they get correct).  Visualize the accuracy in each condition for all the subjects in 1 graph.  \n",
    "#### d.  What is your qualitiative opinion on the differences in reaction time and accuracy between conditions and subjects.   "
   ]
  },
  {
   "cell_type": "code",
   "execution_count": null,
   "metadata": {},
   "outputs": [],
   "source": []
  }
 ],
 "metadata": {
  "kernelspec": {
   "display_name": "Python 3",
   "language": "python",
   "name": "python3"
  },
  "language_info": {
   "codemirror_mode": {
    "name": "ipython",
    "version": 3
   },
   "file_extension": ".py",
   "mimetype": "text/x-python",
   "name": "python",
   "nbconvert_exporter": "python",
   "pygments_lexer": "ipython3",
   "version": "3.11.4"
  },
  "orig_nbformat": 4
 },
 "nbformat": 4,
 "nbformat_minor": 2
}
