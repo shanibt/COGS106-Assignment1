{
 "cells": [
  {
   "cell_type": "code",
   "execution_count": 2,
   "metadata": {},
   "outputs": [],
   "source": [
    "import pandas as pd\n",
    "import numpy as np"
   ]
  },
  {
   "cell_type": "code",
   "execution_count": 4,
   "metadata": {},
   "outputs": [
    {
     "ename": "TypeError",
     "evalue": "object of type 'numpy.float64' has no len()",
     "output_type": "error",
     "traceback": [
      "\u001b[1;31m---------------------------------------------------------------------------\u001b[0m",
      "\u001b[1;31mTypeError\u001b[0m                                 Traceback (most recent call last)",
      "\u001b[1;32mc:\\Users\\shani\\OneDrive\\Documents\\github\\COGS106-Assignment1\\ex.ipynb Cell 2\u001b[0m line \u001b[0;36m1\n\u001b[0;32m      <a href='vscode-notebook-cell:/c%3A/Users/shani/OneDrive/Documents/github/COGS106-Assignment1/ex.ipynb#W1sZmlsZQ%3D%3D?line=7'>8</a>\u001b[0m rt \u001b[39m=\u001b[39m np\u001b[39m.\u001b[39marray(rt)\n\u001b[0;32m     <a href='vscode-notebook-cell:/c%3A/Users/shani/OneDrive/Documents/github/COGS106-Assignment1/ex.ipynb#W1sZmlsZQ%3D%3D?line=9'>10</a>\u001b[0m meanrt \u001b[39m=\u001b[39m np\u001b[39m.\u001b[39mmean(rt[subject \u001b[39m==\u001b[39m \u001b[39m1\u001b[39m])\n\u001b[1;32m---> <a href='vscode-notebook-cell:/c%3A/Users/shani/OneDrive/Documents/github/COGS106-Assignment1/ex.ipynb#W1sZmlsZQ%3D%3D?line=10'>11</a>\u001b[0m \u001b[39mprint\u001b[39m(\u001b[39mlen\u001b[39m(meanrt))\n",
      "\u001b[1;31mTypeError\u001b[0m: object of type 'numpy.float64' has no len()"
     ]
    }
   ],
   "source": [
    "data = pd.read_csv(\"ReactionTimeData.csv\")\n",
    "data.keys()\n",
    "\n",
    "subject = data[\"Subject\"]\n",
    "subject = np.array(subject)\n",
    "\n",
    "rt = data[\"ReactionTime\"]\n",
    "rt = np.array(rt)\n",
    "\n",
    "meanrt = np.mean(rt[subject == 1])\n"
   ]
  }
 ],
 "metadata": {
  "kernelspec": {
   "display_name": "Python 3",
   "language": "python",
   "name": "python3"
  },
  "language_info": {
   "codemirror_mode": {
    "name": "ipython",
    "version": 3
   },
   "file_extension": ".py",
   "mimetype": "text/x-python",
   "name": "python",
   "nbconvert_exporter": "python",
   "pygments_lexer": "ipython3",
   "version": "3.11.4"
  },
  "orig_nbformat": 4
 },
 "nbformat": 4,
 "nbformat_minor": 2
}
